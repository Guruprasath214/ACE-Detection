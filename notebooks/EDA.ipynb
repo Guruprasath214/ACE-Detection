{
  "cells": [
    {
      "cell_type": "markdown",
      "metadata": {},
      "source": [
        "# ACE Detection Framework - Exploratory Data Analysis\n",
        "\n",
        "This notebook provides comprehensive exploratory data analysis for the ACE (Advanced Cyberbullying & Emotion Detection) framework.\n",
        "\n",
        "## Overview\n",
        "- Data loading and basic statistics\n",
        "- Text preprocessing analysis\n",
        "- Emoji and slang pattern analysis\n",
        "- Behavioral pattern detection\n",
        "- Feature extraction and visualization\n",
        "- Model performance analysis\n"
      ]
    },
    {
      "cell_type": "code",
      "execution_count": null,
      "metadata": {},
      "outputs": [],
      "source": [
        "# Import required libraries\n",
        "import pandas as pd\n",
        "import numpy as np\n",
        "import matplotlib.pyplot as plt\n",
        "import seaborn as sns\n",
        "import json\n",
        "from pathlib import Path\n",
        "import sys\n",
        "import warnings\n",
        "warnings.filterwarnings('ignore')\n",
        "\n",
        "# Add project root to path\n",
        "sys.path.append(str(Path.cwd().parent))\n",
        "\n",
        "# Import ACE components\n",
        "from utils.preprocessing import TextPreprocessor, EmojiProcessor, SlangProcessor\n",
        "from models.emotion_detector import EmotionAnalyzer\n",
        "\n",
        "# Set plotting style\n",
        "plt.style.use('seaborn-v0_8')\n",
        "sns.set_palette(\"husl\")\n",
        "%matplotlib inline\n"
      ]
    },
    {
      "cell_type": "markdown",
      "metadata": {},
      "source": [
        "## 1. Data Loading and Basic Statistics\n"
      ]
    },
    {
      "cell_type": "code",
      "execution_count": null,
      "metadata": {},
      "outputs": [],
      "source": [
        "# Load the dataset\n",
        "data_path = Path('../data/annotated.csv')\n",
        "df = pd.read_csv(data_path)\n",
        "\n",
        "print(f\"Dataset shape: {df.shape}\")\n",
        "print(f\"Columns: {df.columns.tolist()}\")\n",
        "print(\"\\nFirst few rows:\")\n",
        "df.head()\n"
      ]
    }
  ],
  "metadata": {
    "language_info": {
      "name": "python"
    }
  },
  "nbformat": 4,
  "nbformat_minor": 2
}
