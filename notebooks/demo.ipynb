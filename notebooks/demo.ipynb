{
  "cells": [
    {
      "cell_type": "markdown",
      "metadata": {},
      "source": [
        "# ACE Detection Framework - Demo\n",
        "\n",
        "This notebook demonstrates the ACE (Advanced Cyberbullying & Emotion Detection) framework in action.\n",
        "\n",
        "## Features Demonstrated\n",
        "- Real-time text analysis\n",
        "- Multi-model ensemble predictions\n",
        "- Detailed explanation of predictions\n",
        "- Preprocessing analysis\n",
        "- Emotion detection\n",
        "- Risk scoring\n"
      ]
    },
    {
      "cell_type": "code",
      "execution_count": null,
      "metadata": {},
      "outputs": [],
      "source": [
        "# Import required libraries\n",
        "import sys\n",
        "from pathlib import Path\n",
        "import json\n",
        "import pandas as pd\n",
        "import matplotlib.pyplot as plt\n",
        "import seaborn as sns\n",
        "\n",
        "# Add project root to path\n",
        "sys.path.append(str(Path.cwd().parent))\n",
        "\n",
        "# Import ACE components\n",
        "from models.ensemble import ACEEnsemble, create_ace_ensemble\n",
        "from utils.preprocessing import TextPreprocessor\n",
        "from models.emotion_detector import EmotionAnalyzer\n",
        "\n",
        "# Set plotting style\n",
        "plt.style.use('seaborn-v0_8')\n",
        "sns.set_palette(\"husl\")\n",
        "%matplotlib inline\n",
        "\n",
        "print(\"ACE Detection Framework Demo\")\n",
        "print(\"=\" * 40)\n"
      ]
    },
    {
      "cell_type": "markdown",
      "metadata": {},
      "source": [
        "## 1. Initialize ACE Framework\n"
      ]
    },
    {
      "cell_type": "code",
      "execution_count": null,
      "metadata": {},
      "outputs": [],
      "source": [
        "# Load configuration\n",
        "config_path = Path('../deployment/config.yaml')\n",
        "if config_path.exists():\n",
        "    import yaml\n",
        "    with open(config_path, 'r') as f:\n",
        "        config = yaml.safe_load(f)\n",
        "else:\n",
        "    # Default configuration\n",
        "    config = {\n",
        "        'models': {\n",
        "            'ensemble': {\n",
        "                'weights': {'bert': 0.4, 'cnn': 0.3, 'emotion': 0.3},\n",
        "                'decision_threshold': 0.6\n",
        "            }\n",
        "        }\n",
        "    }\n",
        "\n",
        "# Initialize ACE ensemble\n",
        "print(\"Initializing ACE ensemble...\")\n",
        "ace_ensemble = create_ace_ensemble(config)\n",
        "\n",
        "# Initialize text preprocessor\n",
        "text_preprocessor = TextPreprocessor()\n",
        "\n",
        "# Initialize emotion analyzer\n",
        "emotion_analyzer = EmotionAnalyzer()\n",
        "\n",
        "print(\"✅ ACE Framework initialized successfully!\")\n",
        "print(f\"Ensemble weights: {config['models']['ensemble']['weights']}\")\n",
        "print(f\"Decision threshold: {config['models']['ensemble']['decision_threshold']}\")\n"
      ]
    },
    {
      "cell_type": "markdown",
      "metadata": {},
      "source": [
        "## 2. Test Sample Texts\n"
      ]
    },
    {
      "cell_type": "code",
      "execution_count": null,
      "metadata": {},
      "outputs": [],
      "source": [
        "# Test texts - mix of normal and harassment\n",
        "test_texts = [\n",
        "    \"You're so beautiful and smart! I love talking to you.\",\n",
        "    \"Kill yourself you worthless piece of trash\",\n",
        "    \"Great job on the presentation today!\",\n",
        "    \"You're such a slut, everyone knows it\",\n",
        "    \"Thanks for helping me with the project\",\n",
        "    \"I'm going to find you and make you pay\",\n",
        "    \"Have a wonderful day!\",\n",
        "    \"You're fat and ugly, no one will ever love you\",\n",
        "    \"Congratulations on your achievement!\",\n",
        "    \"I know where you live, watch your back\"\n",
        "]\n",
        "\n",
        "print(\"Testing ACE Framework with sample texts...\")\n",
        "print(\"=\" * 50)\n",
        "\n",
        "for i, text in enumerate(test_texts, 1):\n",
        "    print(f\"\\n{i}. Text: '{text}'\")\n",
        "    \n",
        "    # Get prediction with explanation\n",
        "    try:\n",
        "        result = ace_ensemble.explain_prediction(text)\n",
        "        \n",
        "        print(f\"   Prediction: {'HARASSMENT' if result['prediction'] == 1 else 'NORMAL'}\")\n",
        "        print(f\"   Confidence: {result['confidence']:.3f}\")\n",
        "        print(f\"   Risk Score: {result['weighted_score']:.3f}\")\n",
        "        print(f\"   Base Scores: {result['base_scores']}\")\n",
        "        print(f\"   Explanation: {result['explanation']}\")\n",
        "        \n",
        "    except Exception as e:\n",
        "        print(f\"   Error: {e}\")\n",
        "    \n",
        "    print(\"-\" * 50)\n"
      ]
    }
  ],
  "metadata": {
    "language_info": {
      "name": "python"
    }
  },
  "nbformat": 4,
  "nbformat_minor": 2
}
